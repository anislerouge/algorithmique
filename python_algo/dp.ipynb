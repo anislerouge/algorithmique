{
 "cells": [
  {
   "cell_type": "markdown",
   "metadata": {},
   "source": [
    "# Comming soon"
   ]
  },
  {
   "cell_type": "code",
   "execution_count": 8,
   "metadata": {},
   "outputs": [
    {
     "name": "stdout",
     "output_type": "stream",
     "text": [
      "[[1, 0, 1, 1, 1], [1, 0, 1, 1, 1], [1, 0, 1, 1, 1], [1, 1, 1, 1, 1], [0, 0, 1, 1, 1]]\n",
      "3\n"
     ]
    }
   ],
   "source": [
    "def init_process_matrice(n):\n",
    "    m = [[None for i in range(n)] for i in range(n)]\n",
    "    for i in range(n):\n",
    "        m[0][i] = 0\n",
    "        m[i][0] = 0\n",
    "    return m\n",
    "\n",
    "\n",
    "def find_largest_square(matrix):\n",
    "    # Write your code here\n",
    "    # To debug: print(\"Debug messages...\", file=sys.stderr, flush=True)\n",
    "    print(matrix)\n",
    "    n = len(matrix)\n",
    "    process_matrice = init_process_matrice(n + 1)\n",
    "    for i in range(n):\n",
    "        for j in range(n):\n",
    "            curr_cell = matrix[i][j]\n",
    "            if curr_cell == 0:\n",
    "                process_matrice[i + 1][j + 1] = 0\n",
    "                continue\n",
    "\n",
    "            min_val = min(\n",
    "                [\n",
    "                    process_matrice[i][j],\n",
    "                    process_matrice[i + 1][j],\n",
    "                    process_matrice[i][j + 1],\n",
    "                ]\n",
    "            )\n",
    "            process_matrice[i + 1][j + 1] = min_val + 1\n",
    "\n",
    "    max_val = max([max(i) for i in process_matrice])\n",
    "    return max_val\n",
    "\n",
    "\n",
    "matrix = [\n",
    "    [1, 0, 1, 1, 1],\n",
    "    [1, 0, 1, 1, 1],\n",
    "    [1, 0, 1, 1, 1],\n",
    "    [1, 1, 1, 1, 1],\n",
    "    [0, 0, 1, 1, 1],\n",
    "]\n",
    "print(find_largest_square(matrix))"
   ]
  },
  {
   "cell_type": "code",
   "execution_count": 3,
   "metadata": {},
   "outputs": [
    {
     "name": "stdout",
     "output_type": "stream",
     "text": [
      "4\n"
     ]
    }
   ],
   "source": [
    "def largest_square(matrix):\n",
    "    if not matrix or not matrix[0]:\n",
    "        return 0\n",
    "\n",
    "    num_rows = len(matrix)\n",
    "    num_cols = len(matrix[0])\n",
    "    max_square = 0\n",
    "    # Create a DP matrix with the same size as the input matrix\n",
    "    dp = [[0] * num_cols for _ in range(num_rows)]\n",
    "\n",
    "    # Fill the DP matrix\n",
    "    for i in range(num_rows):\n",
    "        for j in range(num_cols):\n",
    "            if matrix[i][j] == 1:\n",
    "                if i == 0 or j == 0:  # First row or first column\n",
    "                    dp[i][j] = 1\n",
    "                else:\n",
    "                    # Min of top, left, and top-left cells plus 1\n",
    "                    dp[i][j] = min(dp[i-1][j], dp[i][j-1], dp[i-1][j-1]) + 1\n",
    "                max_square = max(max_square, dp[i][j])\n",
    "\n",
    "    return max_square\n",
    "\n",
    "# Test the function with your matrix\n",
    "matrix = [\n",
    "    [1, 0, 1, 1, 1],\n",
    "    [1, 1, 1, 1, 1],\n",
    "    [1, 1, 1, 1, 1],\n",
    "    [1, 1, 1, 1, 1],\n",
    "    [0, 1, 1, 1, 1],\n",
    "]\n",
    "\n",
    "print(largest_square(matrix))"
   ]
  },
  {
   "cell_type": "code",
   "execution_count": null,
   "metadata": {},
   "outputs": [],
   "source": []
  },
  {
   "cell_type": "code",
   "execution_count": 36,
   "metadata": {},
   "outputs": [
    {
     "data": {
      "text/plain": [
       "[[0, 0, 0, 0, 0, 0, 0, 0],\n",
       " [0, 1, 1, 1, 1, 1, 1, 1],\n",
       " [0, 1, 1, 4, 5, 5, 5, 5],\n",
       " [0, 1, 1, 4, 5, 6, 6, 9],\n",
       " [0, 1, 1, 4, 5, 7, 8, 9]]"
      ]
     },
     "execution_count": 36,
     "metadata": {},
     "output_type": "execute_result"
    }
   ],
   "source": [
    "wt = [1, 3, 4, 5]\n",
    "val = [1, 4, 5, 7]\n",
    "\n",
    "\n",
    "def io_knapsack(wt, val, max_wt):\n",
    "    nb_element = len(val)\n",
    "    matrice = [[None for i in range(max_wt + 1)] for j in range(nb_element + 1)]\n",
    "\n",
    "    for i in range(nb_element + 1):\n",
    "        matrice[i][0] = 0\n",
    "    for i in range(max_wt + 1):\n",
    "        matrice[0][i] = 0\n",
    "\n",
    "    for id_item in range(1, 1 + nb_element):\n",
    "        curr_wt = wt[id_item - 1]\n",
    "        curr_val = val[id_item - 1]\n",
    "        for curr_max_wt in range(1, 1 + max_wt):\n",
    "\n",
    "            if curr_max_wt >= curr_wt:\n",
    "                matrice[id_item][curr_max_wt] = max(\n",
    "                    [\n",
    "                        matrice[id_item - 1][curr_max_wt],\n",
    "                        matrice[id_item - 1][curr_max_wt - curr_wt] + curr_val,\n",
    "                    ]\n",
    "                )\n",
    "            else:\n",
    "                matrice[id_item][curr_max_wt] = matrice[id_item - 1][curr_max_wt]\n",
    "    return matrice\n",
    "\n",
    "\n",
    "io_knapsack(wt, val, 7)"
   ]
  },
  {
   "cell_type": "code",
   "execution_count": 21,
   "metadata": {},
   "outputs": [
    {
     "data": {
      "text/plain": [
       "[1.0, 1.3333333333333333, 1.25, 1.4]"
      ]
     },
     "execution_count": 21,
     "metadata": {},
     "output_type": "execute_result"
    }
   ],
   "source": [
    "rate"
   ]
  },
  {
   "cell_type": "code",
   "execution_count": null,
   "metadata": {},
   "outputs": [],
   "source": []
  }
 ],
 "metadata": {
  "kernelspec": {
   "display_name": "Python 3 (ipykernel)",
   "language": "python",
   "name": "python3"
  },
  "language_info": {
   "codemirror_mode": {
    "name": "ipython",
    "version": 3
   },
   "file_extension": ".py",
   "mimetype": "text/x-python",
   "name": "python",
   "nbconvert_exporter": "python",
   "pygments_lexer": "ipython3",
   "version": "3.11.6"
  }
 },
 "nbformat": 4,
 "nbformat_minor": 4
}
