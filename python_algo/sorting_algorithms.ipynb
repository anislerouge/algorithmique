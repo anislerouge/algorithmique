{
 "cells": [
  {
   "cell_type": "code",
   "execution_count": 1,
   "metadata": {},
   "outputs": [],
   "source": [
    "import unittest"
   ]
  },
  {
   "cell_type": "code",
   "execution_count": 2,
   "metadata": {},
   "outputs": [],
   "source": [
    "def selection_sort(_, curr_list):\n",
    "    for i in range(len(curr_list)):\n",
    "        min_val_id = i\n",
    "\n",
    "        for j in range(i + 1, len(curr_list)):\n",
    "            if curr_list[min_val_id] < curr_list[j]:\n",
    "                min_val_id = j\n",
    "        new_min_val = curr_list[min_val_id]\n",
    "        curr_list.reverse()\n",
    "        curr_list.remove(new_min_val)\n",
    "        curr_list.reverse()\n",
    "        curr_list = [new_min_val] + curr_list\n",
    "\n",
    "    return curr_list"
   ]
  },
  {
   "cell_type": "code",
   "execution_count": 3,
   "metadata": {},
   "outputs": [],
   "source": [
    "def bubble_sort(_, curr_list):\n",
    "    for i in range(len(curr_list)):\n",
    "        for j in range(len(curr_list) - i - 1):\n",
    "            if curr_list[j] >= curr_list[j + 1]:\n",
    "                curr_list[j + 1], curr_list[j] = curr_list[j], curr_list[j + 1]\n",
    "\n",
    "    return curr_list"
   ]
  },
  {
   "cell_type": "code",
   "execution_count": 4,
   "metadata": {},
   "outputs": [],
   "source": [
    "def quick_sort(_, curr_list):\n",
    "\n",
    "    if len(curr_list) <= 1:\n",
    "        return curr_list\n",
    "\n",
    "    mid_id = int(len(curr_list) / 2)\n",
    "\n",
    "    inf_list, eq_list, sup_list = [], [], []\n",
    "\n",
    "    for i in curr_list:\n",
    "        if i > curr_list[mid_id]:\n",
    "            sup_list.append(i)\n",
    "        elif i < curr_list[mid_id]:\n",
    "            inf_list.append(i)\n",
    "        else:\n",
    "            eq_list.append(i)\n",
    "\n",
    "    return quick_sort(_, inf_list) + eq_list + quick_sort(_, sup_list)"
   ]
  },
  {
   "cell_type": "code",
   "execution_count": 5,
   "metadata": {},
   "outputs": [],
   "source": [
    "def optimised_linear_sort(_, curr_list, matching_map):\n",
    "\n",
    "    inv_matching_map = {v: k for k, v in matching_map.items()}\n",
    "\n",
    "    # To use if the curr_list is\n",
    "    n = len(matching_map.keys())\n",
    "    occurence_list = [0 for i in range(n)]\n",
    "\n",
    "    for curr_element in curr_list:\n",
    "        occurence_list[matching_map[curr_element]] += 1\n",
    "\n",
    "    sorted_list = []\n",
    "    for i in range(n):\n",
    "        curr_element = inv_matching_map[i]\n",
    "        nb_occurrence = occurence_list[i]\n",
    "        sorted_list += [curr_element for _ in range(nb_occurrence)]\n",
    "    return sorted_list"
   ]
  },
  {
   "cell_type": "code",
   "execution_count": 6,
   "metadata": {},
   "outputs": [],
   "source": [
    "class TestSortingAlgorithms(unittest.TestCase):\n",
    "    def test_empty_list(self):\n",
    "        curr_list = []\n",
    "        self.assertEqual(self.sorting_function(curr_list), [], \"Should be []\")\n",
    "\n",
    "    def test_singloton_list(self):\n",
    "        curr_list = [1]\n",
    "        self.assertEqual(self.sorting_function(curr_list), [1], \"Should be ['A']\")\n",
    "\n",
    "    def test_sorted_list(self):\n",
    "        curr_list = [-18, -1, 1, 2, 7, -4, 44, 35, -35, -18, 7, 17, 3, 0, 0, 0]\n",
    "        sorted_curr_list = sorted(curr_list)\n",
    "        self.assertEqual(\n",
    "            self.sorting_function(curr_list),\n",
    "            sorted_curr_list,\n",
    "            f\"Should be {sorted_curr_list}\",\n",
    "        )"
   ]
  },
  {
   "cell_type": "code",
   "execution_count": 9,
   "metadata": {},
   "outputs": [
    {
     "name": "stderr",
     "output_type": "stream",
     "text": [
      "...\n",
      "----------------------------------------------------------------------\n",
      "Ran 3 tests in 0.003s\n",
      "\n",
      "OK\n",
      "...\n",
      "----------------------------------------------------------------------\n",
      "Ran 3 tests in 0.003s\n",
      "\n",
      "OK\n",
      "..."
     ]
    },
    {
     "name": "stdout",
     "output_type": "stream",
     "text": [
      "\n"
     ]
    },
    {
     "name": "stderr",
     "output_type": "stream",
     "text": [
      "\n",
      "----------------------------------------------------------------------\n",
      "Ran 3 tests in 0.002s\n",
      "\n",
      "OK\n"
     ]
    }
   ],
   "source": [
    "TestSortingAlgorithms.sorting_function = selection_sort\n",
    "\n",
    "unittest.main(argv=[\"first-arg-is-ignored\"], exit=False)\n",
    "\n",
    "TestSortingAlgorithms.sorting_function = bubble_sort\n",
    "\n",
    "unittest.main(argv=[\"first-arg-is-ignored\"], exit=False)\n",
    "\n",
    "TestSortingAlgorithms.sorting_function = quick_sort\n",
    "\n",
    "unittest.main(argv=[\"first-arg-is-ignored\"], exit=False)\n",
    "print()"
   ]
  },
  {
   "cell_type": "code",
   "execution_count": 18,
   "metadata": {},
   "outputs": [],
   "source": [
    "class TestSortingAlgorithmsClassB(unittest.TestCase):\n",
    "    def test_empty_list(self):\n",
    "        curr_list = []\n",
    "        matching_map = {\"A\": 0, \"B\": 1, \"C\": 2, \"D\": 3}\n",
    "        self.assertEqual(\n",
    "            self.sorting_function(curr_list=curr_list, matching_map=matching_map),\n",
    "            [],\n",
    "            \"Should be []\",\n",
    "        )\n",
    "\n",
    "    def test_singloton_list(self):\n",
    "        curr_list = [\"A\"]\n",
    "        matching_map = {\"A\": 0, \"B\": 1, \"C\": 2, \"D\": 3}\n",
    "        self.assertEqual(\n",
    "            self.sorting_function(curr_list=curr_list, matching_map=matching_map),\n",
    "            curr_list,\n",
    "            \"Should be ['A']\",\n",
    "        )\n",
    "\n",
    "    def test_sorted_list(self):\n",
    "        curr_list = [\"D\", \"A\", \"C\", \"A\", \"C\", \"C\"]\n",
    "        sorted_curr_list = [\"A\", \"A\", \"C\", \"C\", \"C\", \"D\"]\n",
    "        matching_map = {\"A\": 0, \"B\": 1, \"C\": 2, \"D\": 3}\n",
    "        self.assertEqual(\n",
    "            self.sorting_function(curr_list=curr_list, matching_map=matching_map),\n",
    "            sorted_curr_list,\n",
    "            f\"Should be {curr_list}\",\n",
    "        )"
   ]
  },
  {
   "cell_type": "code",
   "execution_count": 19,
   "metadata": {},
   "outputs": [
    {
     "name": "stderr",
     "output_type": "stream",
     "text": [
      "......"
     ]
    },
    {
     "name": "stdout",
     "output_type": "stream",
     "text": [
      "<unittest.main.TestProgram object at 0x7f59fc7effd0>\n"
     ]
    },
    {
     "name": "stderr",
     "output_type": "stream",
     "text": [
      "\n",
      "----------------------------------------------------------------------\n",
      "Ran 6 tests in 0.005s\n",
      "\n",
      "OK\n"
     ]
    }
   ],
   "source": [
    "TestSortingAlgorithmsClassB.sorting_function = optimised_linear_sort\n",
    "print(unittest.main(argv=[\"first-arg-is-ignored\"], exit=False))"
   ]
  },
  {
   "cell_type": "code",
   "execution_count": null,
   "metadata": {},
   "outputs": [],
   "source": []
  }
 ],
 "metadata": {
  "kernelspec": {
   "display_name": "Python 3 (ipykernel)",
   "language": "python",
   "name": "python3"
  },
  "language_info": {
   "codemirror_mode": {
    "name": "ipython",
    "version": 3
   },
   "file_extension": ".py",
   "mimetype": "text/x-python",
   "name": "python",
   "nbconvert_exporter": "python",
   "pygments_lexer": "ipython3",
   "version": "3.11.6"
  }
 },
 "nbformat": 4,
 "nbformat_minor": 4
}
