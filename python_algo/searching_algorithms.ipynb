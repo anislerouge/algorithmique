{
 "cells": [
  {
   "cell_type": "code",
   "execution_count": 1,
   "metadata": {},
   "outputs": [],
   "source": [
    "import unittest"
   ]
  },
  {
   "cell_type": "code",
   "execution_count": 8,
   "metadata": {},
   "outputs": [],
   "source": [
    "def linear_Search(_, curr_list, x):\n",
    "    for i in range(0, len(curr_list)):\n",
    "        if x == curr_list[i]:\n",
    "            return i\n",
    "    return -1"
   ]
  },
  {
   "cell_type": "code",
   "execution_count": 13,
   "metadata": {},
   "outputs": [],
   "source": [
    "# Recursive implentation\n",
    "\n",
    "\n",
    "def binary_search(_, curr_list, a, b, x):\n",
    "\n",
    "    if curr_list:\n",
    "        pass\n",
    "    else:\n",
    "        return -1\n",
    "\n",
    "    if b > a:\n",
    "\n",
    "        curr_index = int(a + (b - a) / 2)\n",
    "\n",
    "        if curr_list[curr_index] == x:\n",
    "            return curr_index\n",
    "        elif curr_list[curr_index] > x:\n",
    "            return binary_search(_, curr_list, a, curr_index - 1, x)\n",
    "        else:\n",
    "            return binary_search(_, curr_list, curr_index + 1, b, x)\n",
    "\n",
    "    elif b == a:\n",
    "        if curr_list[a] == x:\n",
    "            return a\n",
    "        else:\n",
    "            return -1\n",
    "\n",
    "    else:\n",
    "        return -1"
   ]
  },
  {
   "cell_type": "markdown",
   "metadata": {},
   "source": [
    "## Need sorted list"
   ]
  },
  {
   "cell_type": "code",
   "execution_count": 14,
   "metadata": {},
   "outputs": [],
   "source": [
    "class TestResearchAlgorithmsClassA(unittest.TestCase):\n",
    "    def test_empty_list(self):\n",
    "        curr_list = []\n",
    "        a, b = -1, -1\n",
    "        x = 4\n",
    "        self.assertEqual(self.search_function(curr_list, a, b, x), -1, \"Should be -1\")\n",
    "\n",
    "    def test_sorted_list(self):\n",
    "        curr_list = [-18, -4, -1, 1, 2, 3, 7, 17, 35, 44]\n",
    "        x = 17\n",
    "        a, b = 0, len(curr_list) - 1\n",
    "        self.assertEqual(self.search_function(curr_list, a, b, x), 7, \"Should be 7\")\n",
    "\n",
    "    def test_sorted_list_fail(self):\n",
    "        curr_list = [-18, -4, -1, 1, 2, 3, 7, 17, 35, 44]\n",
    "        x = 0\n",
    "        a, b = 0, len(curr_list) - 1\n",
    "        self.assertEqual(self.search_function(curr_list, a, b, x), -1, \"Should be -1\")"
   ]
  },
  {
   "cell_type": "markdown",
   "metadata": {},
   "source": [
    "##  Not sorted list"
   ]
  },
  {
   "cell_type": "code",
   "execution_count": 15,
   "metadata": {},
   "outputs": [],
   "source": [
    "class TestResearchAlgorithmsClassB(unittest.TestCase):\n",
    "    def test_empty_list(self):\n",
    "        curr_list = []\n",
    "        x = 4\n",
    "        self.assertEqual(self.search_function(curr_list, x), -1, \"Should be -1\")\n",
    "\n",
    "    def test_sorted_list(self):\n",
    "        curr_list = [-18, -1, 1, 2, 7, -4, 44, 35, 17, 3]\n",
    "        x = 17\n",
    "        self.assertEqual(self.search_function(curr_list, x), 8, \"Should be 8\")\n",
    "\n",
    "    def test_sorted_list_fail(self):\n",
    "        curr_list = [-18, -1, 1, 2, 7, -4, 44, 35, 3, 17]\n",
    "        x = 0\n",
    "        self.assertEqual(self.search_function(curr_list, x), -1, \"Should be 9\")"
   ]
  },
  {
   "cell_type": "code",
   "execution_count": 16,
   "metadata": {},
   "outputs": [
    {
     "name": "stderr",
     "output_type": "stream",
     "text": [
      "......"
     ]
    },
    {
     "name": "stdout",
     "output_type": "stream",
     "text": [
      "<unittest.main.TestProgram object at 0x7f371cdf0fa0>\n"
     ]
    },
    {
     "name": "stderr",
     "output_type": "stream",
     "text": [
      "\n",
      "----------------------------------------------------------------------\n",
      "Ran 6 tests in 0.005s\n",
      "\n",
      "OK\n"
     ]
    }
   ],
   "source": [
    "TestResearchAlgorithmsClassA.search_function = binary_search\n",
    "\n",
    "TestResearchAlgorithmsClassB.search_function = linear_Search\n",
    "\n",
    "print(unittest.main(argv=[\"first-arg-is-ignored\"], exit=False))"
   ]
  },
  {
   "cell_type": "code",
   "execution_count": null,
   "metadata": {},
   "outputs": [],
   "source": []
  }
 ],
 "metadata": {
  "kernelspec": {
   "display_name": "Python 3 (ipykernel)",
   "language": "python",
   "name": "python3"
  },
  "language_info": {
   "codemirror_mode": {
    "name": "ipython",
    "version": 3
   },
   "file_extension": ".py",
   "mimetype": "text/x-python",
   "name": "python",
   "nbconvert_exporter": "python",
   "pygments_lexer": "ipython3",
   "version": "3.11.6"
  }
 },
 "nbformat": 4,
 "nbformat_minor": 4
}
