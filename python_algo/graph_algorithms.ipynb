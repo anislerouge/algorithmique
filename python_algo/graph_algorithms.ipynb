{
 "cells": [
  {
   "cell_type": "markdown",
   "metadata": {},
   "source": [
    "# Comming soon"
   ]
  },
  {
   "cell_type": "code",
   "execution_count": 1,
   "metadata": {},
   "outputs": [],
   "source": [
    "import unittest"
   ]
  },
  {
   "cell_type": "code",
   "execution_count": 2,
   "metadata": {},
   "outputs": [],
   "source": [
    "class Pile:\n",
    "    def __init__(self):\n",
    "        self.pile = []\n",
    "\n",
    "    def empile(self, e):\n",
    "        self.pile.append(e)\n",
    "\n",
    "    def empile_list(self, list_e):\n",
    "        list_e_copy = list_e.copy()\n",
    "        list_e_copy.reverse()\n",
    "        self.pile = self.pile + list_e_copy\n",
    "\n",
    "    def dempile(self):\n",
    "        e = self.pile[-1]\n",
    "        self.pile = self.pile[:-1]\n",
    "        return e\n",
    "\n",
    "    def is_not_empty(self):\n",
    "        return self.pile\n",
    "\n",
    "\n",
    "def DFS(graphe, start):\n",
    "    visitedNode = [start]\n",
    "    pile = Pile()\n",
    "    pile.empile_list(graphe[start])\n",
    "\n",
    "    while pile.is_not_empty():\n",
    "        currNode = pile.dempile()\n",
    "        if currNode in visitedNode:\n",
    "            continue\n",
    "\n",
    "        visitedNode.append(currNode)\n",
    "        pile.empile_list(graphe[currNode])\n",
    "    return visitedNode"
   ]
  },
  {
   "cell_type": "code",
   "execution_count": 3,
   "metadata": {},
   "outputs": [],
   "source": [
    "def BFS(graphe, start):\n",
    "    visitedNode = [start]\n",
    "\n",
    "    queue = graphe[start]\n",
    "\n",
    "    for currNode in queue:\n",
    "        if currNode in visitedNode:\n",
    "            continue\n",
    "\n",
    "        visitedNode.append(currNode)\n",
    "        queue += graphe[currNode]\n",
    "\n",
    "    return visitedNode"
   ]
  },
  {
   "cell_type": "code",
   "execution_count": 4,
   "metadata": {},
   "outputs": [],
   "source": [
    "# O(V) where V is the number of nodes"
   ]
  },
  {
   "cell_type": "markdown",
   "metadata": {},
   "source": [
    " O (a + n) log ⁡ n\n",
    " \n",
    " a : nombre d'arc\n",
    " n nombre de noeuf"
   ]
  },
  {
   "cell_type": "code",
   "execution_count": null,
   "metadata": {},
   "outputs": [
    {
     "name": "stderr",
     "output_type": "stream",
     "text": [
      "......"
     ]
    },
    {
     "name": "stdout",
     "output_type": "stream",
     "text": [
      "<unittest.main.TestProgram object at 0x7fc0380ed340>\n"
     ]
    },
    {
     "name": "stderr",
     "output_type": "stream",
     "text": [
      "\n",
      "----------------------------------------------------------------------\n",
      "Ran 6 tests in 0.006s\n",
      "\n",
      "OK\n"
     ]
    }
   ],
   "source": [
    "graphe_a = {\"A\": []}\n",
    "\n",
    "graphe_b = {\n",
    "    \"A\": [\"B\", \"C\", \"E\"],\n",
    "    \"B\": [\"A\", \"D\", \"F\"],\n",
    "    \"C\": [\"A\", \"G\"],\n",
    "    \"D\": [\"B\"],\n",
    "    \"E\": [\"A\", \"F\"],\n",
    "    \"F\": [\"B\", \"E\"],\n",
    "    \"G\": [\"C\"],\n",
    "}\n",
    "\n",
    "graphe_c = {\"A\": [\"B\", \"C\"], \"B\": [\"A\", \"D\"], \"C\": [\"A\"], \"D\": [\"B\", \"E\"], \"E\": [\"D\"]}\n",
    "\n",
    "\n",
    "class Test_BFS_algorithms(unittest.TestCase):\n",
    "    def test_one_node(self):\n",
    "        result = [\"A\"]\n",
    "        self.assertEqual(BFS(graphe_a, \"A\"), result, f\"Should be {result}\")\n",
    "\n",
    "    def test_small_graph(self):\n",
    "        result = [\"A\", \"B\", \"C\", \"D\", \"E\"]\n",
    "        self.assertEqual(BFS(graphe_c, \"A\"), result, f\"Should be {result}\")\n",
    "\n",
    "    def test_big_graph(self):\n",
    "        result = [\"A\", \"B\", \"C\", \"E\", \"D\", \"F\", \"G\"]\n",
    "        self.assertEqual(BFS(graphe_b, \"A\"), result, f\"Should be {result}\")\n",
    "\n",
    "\n",
    "class Test_DFS_algorithms(unittest.TestCase):\n",
    "    def test_one_node(self):\n",
    "        result = [\"A\"]\n",
    "        self.assertEqual(DFS(graphe_a, \"A\"), result, f\"Should be {result}\")\n",
    "\n",
    "    def test_small_graph(self):\n",
    "        result = [\"A\", \"B\", \"D\", \"E\", \"C\"]\n",
    "        self.assertEqual(DFS(graphe_c, \"A\"), result, f\"Should be {result}\")\n",
    "\n",
    "    def test_big_graph(self):\n",
    "        result = [\"A\", \"B\", \"D\", \"F\", \"E\", \"C\", \"G\"]\n",
    "        self.assertEqual(DFS(graphe_b, \"A\"), result, f\"Should be {result}\")\n",
    "\n",
    "\n",
    "print(unittest.main(argv=[\"first-arg-is-ignored\"], exit=False))"
   ]
  },
  {
   "cell_type": "code",
   "execution_count": null,
   "metadata": {},
   "outputs": [
    {
     "name": "stdout",
     "output_type": "stream",
     "text": [
      "({'A': 0, 'B': 2, 'C': 1}, {'A': None, 'B': 'C', 'C': 'A'})\n"
     ]
    }
   ],
   "source": [
    "import heapq\n",
    "\n",
    "\n",
    "def dijkstra(graph, starting_vertex):\n",
    "    distances = {vertex: float(\"infinity\") for vertex in graph}\n",
    "    previous_vertex = {vertex: None for vertex in graph}\n",
    "\n",
    "    # Init starting_vertex\n",
    "    distances[starting_vertex] = 0\n",
    "    pq = [(0, starting_vertex)]\n",
    "\n",
    "    while pq:\n",
    "        current_distance, current_vertex = heapq.heappop(pq)\n",
    "\n",
    "        # Nodes can get added to the priority queue multiple times. We only\n",
    "        # process a vertex the first time we remove it from the priority queue.\n",
    "        if current_distance > distances[current_vertex]:\n",
    "            continue\n",
    "\n",
    "        for neighbor, weight in graph[current_vertex].items():\n",
    "            distance = current_distance + weight\n",
    "\n",
    "            # Only consider this new path if it's better than any path we've\n",
    "            # already found.\n",
    "            if distance < distances[neighbor]:\n",
    "                distances[neighbor] = distance\n",
    "                previous_vertex[neighbor] = current_vertex\n",
    "                heapq.heappush(pq, (distance, neighbor))\n",
    "\n",
    "    return distances, previous_vertex\n",
    "\n",
    "\n",
    "example_graph = {\n",
    "    \"U\": {\"V\": 2, \"W\": 5, \"X\": 1},\n",
    "    \"V\": {\"U\": 2, \"X\": 2, \"W\": 3},\n",
    "    \"W\": {\"V\": 3, \"U\": 5, \"X\": 3, \"Y\": 1, \"Z\": 5},\n",
    "    \"X\": {\"U\": 1, \"V\": 2, \"W\": 3, \"Y\": 1},\n",
    "    \"Y\": {\"X\": 1, \"W\": 1, \"Z\": 1},\n",
    "    \"Z\": {\"W\": 5, \"Y\": 1},\n",
    "}\n",
    "\n",
    "example_graph = {\n",
    "    \"A\": {\"B\": 6, \"C\": 1},\n",
    "    \"B\": {\"A\": 6, \"C\": 1},\n",
    "    \"C\": {\"A\": 1, \"B\": 1},\n",
    "}\n",
    "\n",
    "\n",
    "print(dijkstra(example_graph, \"A\"))"
   ]
  },
  {
   "cell_type": "code",
   "execution_count": null,
   "metadata": {},
   "outputs": [],
   "source": []
  }
 ],
 "metadata": {
  "kernelspec": {
   "display_name": "Python 3 (ipykernel)",
   "language": "python",
   "name": "python3"
  },
  "language_info": {
   "codemirror_mode": {
    "name": "ipython",
    "version": 3
   },
   "file_extension": ".py",
   "mimetype": "text/x-python",
   "name": "python",
   "nbconvert_exporter": "python",
   "pygments_lexer": "ipython3",
   "version": "3.11.6"
  }
 },
 "nbformat": 4,
 "nbformat_minor": 4
}
